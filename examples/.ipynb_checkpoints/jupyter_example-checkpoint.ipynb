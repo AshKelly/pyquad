{
 "cells": [
  {
   "cell_type": "code",
   "execution_count": 1,
   "metadata": {},
   "outputs": [],
   "source": [
    "import numpy as np\n",
    "import scipy.integrate\n",
    "\n",
    "from pyquad import quad, quad_grid\n",
    "from jit import jit_integrand"
   ]
  },
  {
   "cell_type": "code",
   "execution_count": 2,
   "metadata": {},
   "outputs": [],
   "source": [
    "def test_integrand_func(x, alpha, beta, i, j, k, l):                                             \n",
    "    return x * alpha * beta + i * j * k     "
   ]
  },
  {
   "cell_type": "markdown",
   "metadata": {},
   "source": [
    "# pyquad.quad <-> scipy.integrate.quad"
   ]
  },
  {
   "cell_type": "markdown",
   "metadata": {},
   "source": [
    "In a basic sense, it is possible to just drop-in the `pyquad.quad` in place of `scipy.integrate.quad`. Though for a single integral there isn't really any benefit of this,"
   ]
  },
  {
   "cell_type": "code",
   "execution_count": 3,
   "metadata": {},
   "outputs": [],
   "source": [
    "res, error = quad(test_integrand_func, 0, 1, (1., 1., 1., 1., 1., 1.))"
   ]
  },
  {
   "cell_type": "code",
   "execution_count": 4,
   "metadata": {},
   "outputs": [
    {
     "data": {
      "text/plain": [
       "(1.5, 1.6653345369377348e-14)"
      ]
     },
     "execution_count": 4,
     "metadata": {},
     "output_type": "execute_result"
    }
   ],
   "source": [
    "res, error"
   ]
  },
  {
   "cell_type": "code",
   "execution_count": 5,
   "metadata": {},
   "outputs": [],
   "source": [
    "res, error = scipy.integrate.quad(test_integrand_func, 0, 1, (1., 1., 1., 1., 1., 1.))"
   ]
  },
  {
   "cell_type": "code",
   "execution_count": 6,
   "metadata": {},
   "outputs": [
    {
     "data": {
      "text/plain": [
       "(1.5, 1.6653345369377348e-14)"
      ]
     },
     "execution_count": 6,
     "metadata": {},
     "output_type": "execute_result"
    }
   ],
   "source": [
    "res, error"
   ]
  },
  {
   "cell_type": "markdown",
   "metadata": {},
   "source": [
    "# pyquad.quad_grid"
   ]
  },
  {
   "cell_type": "markdown",
   "metadata": {},
   "source": [
    "This is the regime where pyquad is worth the investment. If you have 6 parameters in your integrand, and you want to integrate over a range of 2 of them then in scipy it may look something like this,"
   ]
  },
  {
   "cell_type": "code",
   "execution_count": 7,
   "metadata": {},
   "outputs": [],
   "source": [
    "grid = np.random.random((10000000, 2))"
   ]
  },
  {
   "cell_type": "code",
   "execution_count": 8,
   "metadata": {},
   "outputs": [
    {
     "name": "stdout",
     "output_type": "stream",
     "text": [
      "CPU times: user 1min 40s, sys: 62.2 ms, total: 1min 40s\n",
      "Wall time: 1min 40s\n"
     ]
    }
   ],
   "source": [
    "%%time\n",
    "res = np.zeros(grid.shape[0])\n",
    "err = np.zeros(grid.shape[0])   \n",
    "                                                                                   \n",
    "for i in range(res.shape[0]):                                                                    \n",
    "    res[i], err[i] = scipy.integrate.quad(test_integrand_func, 0, 1, \n",
    "                                          (grid[i, 0], grid[i, 1], 1.0, 1.0, 1.0, 1.0))"
   ]
  },
  {
   "cell_type": "code",
   "execution_count": 9,
   "metadata": {},
   "outputs": [
    {
     "data": {
      "text/plain": [
       "(array([1.11591324, 1.03565151, 1.29417096, ..., 1.0791415 , 1.08966962,\n",
       "        1.00045506]),\n",
       " array([1.23891258e-14, 1.14980415e-14, 1.43681840e-14, ...,\n",
       "        1.19808774e-14, 1.20977630e-14, 1.11072825e-14]))"
      ]
     },
     "execution_count": 9,
     "metadata": {},
     "output_type": "execute_result"
    }
   ],
   "source": [
    "res, err"
   ]
  },
  {
   "cell_type": "markdown",
   "metadata": {},
   "source": [
    "but with `pyquad.quad_grid` we are able to make the code more elegant and significantly faster by reducing calls to the python function and also compiling the integrand. All of this is done behind the API."
   ]
  },
  {
   "cell_type": "code",
   "execution_count": 10,
   "metadata": {},
   "outputs": [
    {
     "name": "stdout",
     "output_type": "stream",
     "text": [
      "CPU times: user 1.43 s, sys: 104 ms, total: 1.53 s\n",
      "Wall time: 1.53 s\n"
     ]
    }
   ],
   "source": [
    "%%time\n",
    "res, err = quad_grid(test_integrand_func, 0, 1, grid, (1.0, 1.0, 1.0, 1.0))"
   ]
  },
  {
   "cell_type": "code",
   "execution_count": 11,
   "metadata": {},
   "outputs": [
    {
     "data": {
      "text/plain": [
       "(array([1.11591324, 1.03565151, 1.29417096, ..., 1.0791415 , 1.08966962,\n",
       "        1.00045506]),\n",
       " array([1.23891258e-14, 1.14980415e-14, 1.43681840e-14, ...,\n",
       "        1.19808774e-14, 1.20977630e-14, 1.11072825e-14]))"
      ]
     },
     "execution_count": 11,
     "metadata": {},
     "output_type": "execute_result"
    }
   ],
   "source": [
    "res, err"
   ]
  },
  {
   "cell_type": "markdown",
   "metadata": {},
   "source": [
    "These both yield the same results, but in a slightly different time frame!"
   ]
  },
  {
   "cell_type": "markdown",
   "metadata": {},
   "source": [
    "It should also be noted the number of parameters in the grid can be varied, i.e, if you have a integrand which takes 6 parameters (`test_integrand_func`) then it is possible to pass all the paramters via the grid, or just one. See the exmaples below,"
   ]
  },
  {
   "cell_type": "code",
   "execution_count": 12,
   "metadata": {},
   "outputs": [],
   "source": [
    "grid1 = np.random.random((10000000, 6))\n",
    "res, err = quad_grid(test_integrand_func, 0, 1, grid1)"
   ]
  },
  {
   "cell_type": "code",
   "execution_count": 13,
   "metadata": {},
   "outputs": [],
   "source": [
    "grid2 = np.random.random((10000000, 1))\n",
    "res, err = quad_grid(test_integrand_func, 0, 1, grid2, (1., 1., 1., 1., 1.))"
   ]
  },
  {
   "cell_type": "markdown",
   "metadata": {},
   "source": [
    "# Parallel pyquad.quad_grid"
   ]
  },
  {
   "cell_type": "markdown",
   "metadata": {},
   "source": [
    "If you have a lot of integrals or a nice computer then you may benefit from using openMP. Just make sure that the OMP library is available to the compiler,"
   ]
  },
  {
   "cell_type": "code",
   "execution_count": 14,
   "metadata": {},
   "outputs": [
    {
     "name": "stdout",
     "output_type": "stream",
     "text": [
      "CPU times: user 2.96 s, sys: 128 ms, total: 3.09 s\n",
      "Wall time: 452 ms\n"
     ]
    }
   ],
   "source": [
    "%%time\n",
    "res, err = quad_grid(test_integrand_func, 0, 1, grid, (1.0, 1.0, 1.0, 1.0), parallel=True)"
   ]
  },
  {
   "cell_type": "code",
   "execution_count": 15,
   "metadata": {},
   "outputs": [
    {
     "data": {
      "text/plain": [
       "(array([1.11591324, 1.03565151, 1.29417096, ..., 1.0791415 , 1.08966962,\n",
       "        1.00045506]),\n",
       " array([1.23891258e-14, 1.14980415e-14, 1.43681840e-14, ...,\n",
       "        1.19808774e-14, 1.20977630e-14, 1.11072825e-14]))"
      ]
     },
     "execution_count": 15,
     "metadata": {},
     "output_type": "execute_result"
    }
   ],
   "source": [
    "res, err"
   ]
  },
  {
   "cell_type": "markdown",
   "metadata": {},
   "source": [
    "# What about vs. a jitted function?"
   ]
  },
  {
   "cell_type": "markdown",
   "metadata": {},
   "source": [
    "It is possible to make a function faster by using numba jit to compile the function. I'm using a jit wrapper from PyAutoLens to compare to."
   ]
  },
  {
   "cell_type": "code",
   "execution_count": 16,
   "metadata": {},
   "outputs": [],
   "source": [
    "@jit_integrand\n",
    "def test_integrand_func_jit(x, alpha, beta, i, j, k, l):                                             \n",
    "    return x * alpha * beta + i * j * k  "
   ]
  },
  {
   "cell_type": "markdown",
   "metadata": {},
   "source": [
    "then we use the naive python loop again,"
   ]
  },
  {
   "cell_type": "code",
   "execution_count": 17,
   "metadata": {},
   "outputs": [
    {
     "name": "stdout",
     "output_type": "stream",
     "text": [
      "CPU times: user 29.9 s, sys: 56 ms, total: 29.9 s\n",
      "Wall time: 29.9 s\n"
     ]
    }
   ],
   "source": [
    "%%time\n",
    "res = np.zeros(grid.shape[0])\n",
    "err = np.zeros(grid.shape[0])   \n",
    "                                                                                   \n",
    "for i in range(res.shape[0]):                                                                    \n",
    "    res[i], err[i] = scipy.integrate.quad(test_integrand_func_jit, 0, 1, \n",
    "                                          (grid[i, 0], grid[i, 1], 1.0, 1.0, 1.0, 1.0))"
   ]
  },
  {
   "cell_type": "markdown",
   "metadata": {},
   "source": [
    "Which is actually pretty fast! But, if speed is critical then just using numba jit is still no where near as fast a (parallel) `grid_quad`."
   ]
  },
  {
   "cell_type": "markdown",
   "metadata": {},
   "source": [
    "If you have any questions or issues, please get in touch! (a.j.kelly@durham.ac.uk)"
   ]
  }
 ],
 "metadata": {
  "kernelspec": {
   "display_name": "Python 3",
   "language": "python",
   "name": "python3"
  },
  "language_info": {
   "codemirror_mode": {
    "name": "ipython",
    "version": 3
   },
   "file_extension": ".py",
   "mimetype": "text/x-python",
   "name": "python",
   "nbconvert_exporter": "python",
   "pygments_lexer": "ipython3",
   "version": "3.6.7"
  }
 },
 "nbformat": 4,
 "nbformat_minor": 2
}
