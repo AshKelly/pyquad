{
 "cells": [
  {
   "cell_type": "code",
   "execution_count": 19,
   "metadata": {},
   "outputs": [],
   "source": [
    "import numpy as np\n",
    "\n",
    "import scipy.integrate\n",
    "from pyquad import quad, quad_grid, parallel_quad_grid\n",
    "from jit import jit_integrand"
   ]
  },
  {
   "cell_type": "code",
   "execution_count": 20,
   "metadata": {},
   "outputs": [],
   "source": [
    "def test_integrand_func(x, alpha, beta, i, j, k, l):                                             \n",
    "    return x * alpha * beta + i * j * k     "
   ]
  },
  {
   "cell_type": "markdown",
   "metadata": {},
   "source": [
    "# pyquad.quad <-> scipy.integrate.quad"
   ]
  },
  {
   "cell_type": "markdown",
   "metadata": {},
   "source": [
    "In a basic sense, it is possible to just drop-in the `pyquad.quad` in place of `scipy.integrate.quad`. Though for a single integral there isn't really any benefit of this,"
   ]
  },
  {
   "cell_type": "code",
   "execution_count": 21,
   "metadata": {},
   "outputs": [],
   "source": [
    "res, error = quad(test_integrand_func, 0, 1, (1., 1., 1., 1., 1., 1.))"
   ]
  },
  {
   "cell_type": "code",
   "execution_count": 22,
   "metadata": {},
   "outputs": [
    {
     "data": {
      "text/plain": [
       "(1.5, 1.6653345369377348e-14)"
      ]
     },
     "execution_count": 22,
     "metadata": {},
     "output_type": "execute_result"
    }
   ],
   "source": [
    "res, error"
   ]
  },
  {
   "cell_type": "code",
   "execution_count": 23,
   "metadata": {},
   "outputs": [],
   "source": [
    "res, error = scipy.integrate.quad(test_integrand_func, 0, 1, (1., 1., 1., 1., 1., 1.))"
   ]
  },
  {
   "cell_type": "code",
   "execution_count": 24,
   "metadata": {},
   "outputs": [
    {
     "data": {
      "text/plain": [
       "(1.5, 1.6653345369377348e-14)"
      ]
     },
     "execution_count": 24,
     "metadata": {},
     "output_type": "execute_result"
    }
   ],
   "source": [
    "res, error"
   ]
  },
  {
   "cell_type": "markdown",
   "metadata": {},
   "source": [
    "# pyquad.quad_grid"
   ]
  },
  {
   "cell_type": "markdown",
   "metadata": {},
   "source": [
    "This is the regime where pyquad is worth the investment. If you have 6 parameters in your integrand, and you want to integrate over a range of 2 of them then in scipy it may look something like this,"
   ]
  },
  {
   "cell_type": "code",
   "execution_count": 25,
   "metadata": {},
   "outputs": [],
   "source": [
    "grid = np.random.random((10000000, 2))"
   ]
  },
  {
   "cell_type": "code",
   "execution_count": null,
   "metadata": {},
   "outputs": [],
   "source": [
    "%%time\n",
    "res = np.zeros(grid.shape[0])\n",
    "err = np.zeros(grid.shape[0])   \n",
    "                                                                                   \n",
    "for i in range(res.shape[0]):                                                                    \n",
    "    res[i], err[i] = scipy.integrate.quad(test_integrand_func, 0, 1, \n",
    "                                          (grid[i, 0], grid[i, 1], 1.0, 1.0, 1.0, 1.0))"
   ]
  },
  {
   "cell_type": "code",
   "execution_count": null,
   "metadata": {},
   "outputs": [],
   "source": [
    "res, err"
   ]
  },
  {
   "cell_type": "markdown",
   "metadata": {},
   "source": [
    "but with `pyquad.quad_grid` we are able to make the code more elegant and significantly faster by reducing calls to the python function and also compiling the integrand. All of this is done behind the API."
   ]
  },
  {
   "cell_type": "code",
   "execution_count": null,
   "metadata": {},
   "outputs": [],
   "source": [
    "%%time\n",
    "res, err = pyquad.quad_grid(test_integrand_func, 0, 1, grid, (1.0, 1.0, 1.0, 1.0))"
   ]
  },
  {
   "cell_type": "code",
   "execution_count": null,
   "metadata": {},
   "outputs": [],
   "source": [
    "res, err"
   ]
  },
  {
   "cell_type": "markdown",
   "metadata": {},
   "source": [
    "These both yield the same results, but in a slightly different time frame!"
   ]
  },
  {
   "cell_type": "markdown",
   "metadata": {},
   "source": [
    "# pyquad.parallel_quad_grid"
   ]
  },
  {
   "cell_type": "markdown",
   "metadata": {},
   "source": [
    "If you have a lot of integrals or a nice computer then you may benefit from using openMP. Just make sure that the OMP library is available to the compiler,"
   ]
  },
  {
   "cell_type": "code",
   "execution_count": null,
   "metadata": {},
   "outputs": [],
   "source": [
    "%%time\n",
    "res, err = pyquad.parallel_quad_grid(test_integrand_func, 0, 1, grid, (1.0, 1.0, 1.0, 1.0))"
   ]
  },
  {
   "cell_type": "code",
   "execution_count": null,
   "metadata": {},
   "outputs": [],
   "source": [
    "res, err"
   ]
  },
  {
   "cell_type": "markdown",
   "metadata": {},
   "source": [
    "If you have any questions or issues, please get in touch! (a.j.kelly@durham.ac.uk)"
   ]
  }
 ],
 "metadata": {
  "kernelspec": {
   "display_name": "Python 3",
   "language": "python",
   "name": "python3"
  },
  "language_info": {
   "codemirror_mode": {
    "name": "ipython",
    "version": 3
   },
   "file_extension": ".py",
   "mimetype": "text/x-python",
   "name": "python",
   "nbconvert_exporter": "python",
   "pygments_lexer": "ipython3",
   "version": "3.6.7"
  }
 },
 "nbformat": 4,
 "nbformat_minor": 2
}
